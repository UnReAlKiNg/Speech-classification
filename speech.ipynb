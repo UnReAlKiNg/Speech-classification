{
  "cells": [
    {
      "cell_type": "code",
      "execution_count": 1,
      "metadata": {
        "id": "8aEjnI_j6uBq"
      },
      "outputs": [
        {
          "name": "stderr",
          "output_type": "stream",
          "text": [
            "<frozen importlib._bootstrap>:228: RuntimeWarning: scipy._lib.messagestream.MessageStream size changed, may indicate binary incompatibility. Expected 56 from C header, got 64 from PyObject\n"
          ]
        }
      ],
      "source": [
        "%matplotlib inline\n",
        "import os\n",
        "import random\n",
        "import numpy as np\n",
        "import pandas as pd\n",
        "import librosa\n",
        "import librosa.display\n",
        "import matplotlib.pyplot as plt\n",
        "import seaborn as sn\n",
        "from sklearn import model_selection\n",
        "from sklearn import preprocessing\n",
        "import IPython.display as ipd\n",
        "import cv2"
      ]
    },
    {
      "cell_type": "code",
      "execution_count": 2,
      "metadata": {
        "colab": {
          "base_uri": "https://localhost:8080/"
        },
        "id": "E_B68bnN9aG9",
        "outputId": "5b5a8489-8bd3-4621-fb96-fdbdf1869ddd"
      },
      "outputs": [],
      "source": [
        "#!ls"
      ]
    },
    {
      "cell_type": "code",
      "execution_count": 2,
      "metadata": {
        "colab": {
          "base_uri": "https://localhost:8080/",
          "height": 419
        },
        "id": "TtZ9WqRU7_Q-",
        "outputId": "7ce6794f-b985-47f2-fb06-9b9cbf06c535"
      },
      "outputs": [
        {
          "data": {
            "text/html": [
              "<div>\n",
              "<style scoped>\n",
              "    .dataframe tbody tr th:only-of-type {\n",
              "        vertical-align: middle;\n",
              "    }\n",
              "\n",
              "    .dataframe tbody tr th {\n",
              "        vertical-align: top;\n",
              "    }\n",
              "\n",
              "    .dataframe thead th {\n",
              "        text-align: right;\n",
              "    }\n",
              "</style>\n",
              "<table border=\"1\" class=\"dataframe\">\n",
              "  <thead>\n",
              "    <tr style=\"text-align: right;\">\n",
              "      <th></th>\n",
              "      <th>file_name</th>\n",
              "      <th>target</th>\n",
              "    </tr>\n",
              "  </thead>\n",
              "  <tbody>\n",
              "    <tr>\n",
              "      <th>0</th>\n",
              "      <td>c2c4efc4-0c7c-4696-8743-dd9d08209d71.wav</td>\n",
              "      <td>six</td>\n",
              "    </tr>\n",
              "    <tr>\n",
              "      <th>1</th>\n",
              "      <td>a0513500-ab86-4720-87ac-4916f06988ff.wav</td>\n",
              "      <td>five</td>\n",
              "    </tr>\n",
              "    <tr>\n",
              "      <th>2</th>\n",
              "      <td>7a9e9857-6a9f-4306-aab0-d2de315fae24.wav</td>\n",
              "      <td>wow</td>\n",
              "    </tr>\n",
              "    <tr>\n",
              "      <th>3</th>\n",
              "      <td>efc1d37d-bca9-4a84-b1cd-242396f52c73.wav</td>\n",
              "      <td>cat</td>\n",
              "    </tr>\n",
              "    <tr>\n",
              "      <th>4</th>\n",
              "      <td>21c3143d-3a8f-4e84-b48a-a8e25b2757c3.wav</td>\n",
              "      <td>forward</td>\n",
              "    </tr>\n",
              "  </tbody>\n",
              "</table>\n",
              "</div>"
            ],
            "text/plain": [
              "                                  file_name   target\n",
              "0  c2c4efc4-0c7c-4696-8743-dd9d08209d71.wav      six\n",
              "1  a0513500-ab86-4720-87ac-4916f06988ff.wav     five\n",
              "2  7a9e9857-6a9f-4306-aab0-d2de315fae24.wav      wow\n",
              "3  efc1d37d-bca9-4a84-b1cd-242396f52c73.wav      cat\n",
              "4  21c3143d-3a8f-4e84-b48a-a8e25b2757c3.wav  forward"
            ]
          },
          "execution_count": 2,
          "metadata": {},
          "output_type": "execute_result"
        }
      ],
      "source": [
        "train_file = \"train.csv\"\n",
        "audio_dir = \"audio_files/\"\n",
        "\n",
        "meta_data = pd.read_csv(train_file)\n",
        "meta_data.head()"
      ]
    },
    {
      "cell_type": "code",
      "execution_count": 3,
      "metadata": {
        "colab": {
          "base_uri": "https://localhost:8080/"
        },
        "id": "S-UBs0vH8og2",
        "outputId": "37c093bf-f046-4e48-a91e-a26aa1a5601c"
      },
      "outputs": [
        {
          "data": {
            "text/plain": [
              "(74080, 2)"
            ]
          },
          "execution_count": 3,
          "metadata": {},
          "output_type": "execute_result"
        }
      ],
      "source": [
        "data_size = meta_data.shape\n",
        "data_size"
      ]
    },
    {
      "cell_type": "code",
      "execution_count": 6,
      "metadata": {
        "colab": {
          "base_uri": "https://localhost:8080/"
        },
        "id": "0pQ1l7SgIbbS",
        "outputId": "c891300d-4dd9-41fc-b598-d44c060d006a"
      },
      "outputs": [
        {
          "name": "stdout",
          "output_type": "stream",
          "text": [
            "74080 74080\n",
            "{'bird': 0, 'zero': 1, 'eight': 2, 'left': 3, 'backward': 4, 'four': 5, 'cat': 6, 'off': 7, 'forward': 8, 'one': 9, 'house': 10, 'dog': 11, 'tree': 12, 'go': 13, 'happy': 14, 'marvin': 15, 'visual': 16, 'no': 17, 'down': 18, 'bed': 19, 'up': 20, 'yes': 21, 'sheila': 22, 'learn': 23, 'follow': 24, 'right': 25, 'stop': 26, 'three': 27, 'six': 28, 'on': 29, 'five': 30, 'seven': 31, 'nine': 32, 'wow': 33, 'two': 34}\n",
            "x train:59264\n",
            "y train:59264\n",
            "x test:14816\n",
            "y test:14816\n",
            "x_train = \n",
            " ['audio_files/47c38c0c-6d2b-4c55-8acc-dfa3b20bc0c6.wav', 'audio_files/dd2e3aa1-b3b5-4006-ae8d-ed15be7378b7.wav', 'audio_files/29ce847b-742b-47fa-a96d-4730f1d86d08.wav', 'audio_files/0b18a604-9097-4c48-9fc9-c1273ae7e1e6.wav', 'audio_files/59cc42f7-fd45-4a7c-a892-d162407ace67.wav', 'audio_files/30847870-eb87-4e88-8f0f-cee678250d6a.wav', 'audio_files/91c3b48b-a65d-4323-b0d6-545c2dfd904e.wav', 'audio_files/5c590ac0-1578-48da-8479-9554545c0dbc.wav', 'audio_files/ca6b84f0-de91-4bef-bd17-4d4d3f05f41b.wav', 'audio_files/f9c3efb3-79b0-4dc8-8bcd-6552983adf9a.wav']\n",
            "y_train = \n",
            " [7, 31, 32, 13, 16, 17, 3, 28, 4, 31]\n"
          ]
        }
      ],
      "source": [
        "x = list(meta_data.loc[:,\"file_name\"])\n",
        "y = list(meta_data.loc[:, \"target\"])\n",
        "\n",
        "print(len(x),len(y))\n",
        "target_set = set(y)\n",
        "class_dic = dict()\n",
        "\n",
        "for i,j in enumerate(target_set):\n",
        "    class_dic[j] = i\n",
        "\n",
        "print(class_dic)\n",
        "x_dir = []\n",
        "y_dir = []\n",
        "ind = 0\n",
        "\n",
        "while ind < len(x):\n",
        "    file_path = audio_dir + x[ind]\n",
        "    class_num = class_dic[y[ind]]\n",
        "    x_dir.append(file_path)\n",
        "    y_dir.append(class_num)\n",
        "\n",
        "    ind = ind + 1  \n",
        "    #if ind%(len(x)/10) == 0:\n",
        "    #    print('process = {}%'.format(ind*10/(len(x)/10)))\n",
        "    #    print(\"x_dir = {}, y_dir = {}\".format(len(x_dir),len(y_dir)))    \n",
        "\n",
        "x_train, x_test, y_train, y_test = model_selection.train_test_split(x_dir, y_dir, test_size=0.2, stratify=y_dir)\n",
        "print(\"x train:{0}\\ny train:{1}\\nx test:{2}\\ny test:{3}\".format(len(x_train),\n",
        "                                                                len(y_train), \n",
        "                                                                len(x_test), \n",
        "                                                                len(y_test)))\n",
        "print(\"x_train = \\n\", x_train[0:10])\n",
        "print(\"y_train = \\n\", y_train[0:10])                                                    "
      ]
    },
    {
      "cell_type": "code",
      "execution_count": 7,
      "metadata": {
        "colab": {
          "background_save": true
        },
        "id": "WoqLqRTm-sM_"
      },
      "outputs": [],
      "source": [
        "import numpy as np\n",
        "import pandas as pd\n",
        "import torch\n",
        "import torch.nn as nn\n",
        "import torchaudio\n",
        "import torch.nn.functional as F\n",
        "import torchvision\n",
        "from torch.autograd import Variable\n",
        "\n",
        "from torch.utils.data import DataLoader, Dataset\n",
        "from tqdm import tqdm"
      ]
    },
    {
      "cell_type": "code",
      "execution_count": 8,
      "metadata": {
        "colab": {
          "background_save": true
        },
        "id": "rUzZigugFduW"
      },
      "outputs": [],
      "source": [
        "class SpeechDataset(Dataset):\n",
        "    def __init__(self, data_path, target=None, is_test=False, augmentation=None):\n",
        "        super().__init__()\n",
        "        self.data_path = data_path\n",
        "        self.target = target\n",
        "        self.is_test = is_test\n",
        "        self.augmentation = augmentation\n",
        "        self.duration = 1000\n",
        "        self.sr = 16000\n",
        "        self.n_fft = 1024\n",
        "        self.hop_length = None\n",
        "        self.n_mels = 64\n",
        "        self.top_db = 80\n",
        "\n",
        "    def __len__(self):\n",
        "        return len(self.data_path)\n",
        "\n",
        "    # def __getitem__(self, item):\n",
        "    #     wav, sr = load_wave_data(self.data_path[item])\n",
        "    #     #melsp_x = librosa.feature.melspectrogram(y=wav, sr=sr, hop_length=512, n_mels=32, n_fft=2048)\n",
        "    #     #melsp_x = librosa.feature.melspectrogram(y=norm_wav, sr=16000, hop_length=512, n_mels=32, n_fft=2048)\n",
        "    #     #melsp_x = calculate_melsp(wav,n_mels=64,n_fft=1024,hop_length=256)\n",
        "    #     melsp_x = calculate_melsp(wav,n_mels=64,n_fft=1024,hop_length=None)\n",
        "    #     norm_melsp = (melsp_x - sample_mean) / (sample_std + 1e-6)\n",
        "\n",
        "    #     norm_melsp = norm_melsp[np.newaxis, :, :]\n",
        "    #     norm_melsp = norm_melsp.astype('float32')\n",
        "    #     norm_melsp = torch.from_numpy(norm_melsp)\n",
        "    #     return norm_melsp, self.target[item]\n",
        "\n",
        "    def __getitem__(self,idx):\n",
        "        file_path = self.data_path[idx]\n",
        "        class_id = self.target[idx]\n",
        "\n",
        "        samples,sr = torchaudio.load(file_path)\n",
        "        samples = self._pad_trunc(samples,self.sr)\n",
        "\n",
        "        spect = torchaudio.transforms.MelSpectrogram(\n",
        "            self.sr,\n",
        "            n_fft=self.n_fft,\n",
        "            hop_length=self.hop_length,\n",
        "            n_mels=self.n_mels\n",
        "        )(samples)\n",
        "\n",
        "        spect = torchaudio.transforms.AmplitudeToDB(top_db=self.top_db)(spect)\n",
        "        spect = self.rechannel(spect,self.sr,3)\n",
        "\n",
        "        return spect, self.target[idx]\n",
        "        \n",
        "\n",
        "    def _pad_trunc(self, samples, sr):\n",
        "        num_rows, signal_len = samples.shape\n",
        "        max_len = sr // 1000 * self.duration\n",
        "\n",
        "        if (signal_len > max_len):\n",
        "            # Truncate the signal to the given length\n",
        "            samples = samples[:, max_len]\n",
        "\n",
        "        elif (signal_len < max_len):\n",
        "            # Length of padding to add at the beginning and end of the signal\n",
        "            pad_begin_len = random.randint(0, max_len - signal_len)\n",
        "            pad_end_len = max_len - signal_len - pad_begin_len\n",
        "\n",
        "            # Pad with 0s\n",
        "            pad_begin = torch.zeros((1, pad_begin_len))\n",
        "            pad_end = torch.zeros((1, pad_end_len))\n",
        "\n",
        "            samples = torch.cat((pad_begin, samples, pad_end), 1)\n",
        "\n",
        "        return samples\n",
        "\n",
        "    def rechannel(self, spect, sr, num_channel):\n",
        "        if (spect.shape[0] == num_channel):\n",
        "            # Nothing to do\n",
        "            return spect\n",
        "\n",
        "        if (num_channel == 1):\n",
        "            # Convert from stereo to mono by selecting only the first channel\n",
        "            spect = spect[:1, :]\n",
        "        else:\n",
        "            # Convert from mono to stereo by duplicating the first channel\n",
        "            spect = torch.cat([spect, spect, spect])\n",
        "\n",
        "        return spect\n",
        "\n",
        "    def _time_shift(self, samples, sr, shift_limit):\n",
        "        _, sig_len = samples.shape\n",
        "        shift_amt = int(random.random() * shift_limit * sig_len)\n",
        "        return samples.roll(shift_amt)\n",
        "    \n"
      ]
    },
    {
      "cell_type": "code",
      "execution_count": 9,
      "metadata": {
        "colab": {
          "background_save": true
        },
        "id": "6YFDFov-_MeB"
      },
      "outputs": [],
      "source": [
        "config = {\n",
        "    'batch_size': 64,\n",
        "    'num_workers': 0,\n",
        "    'epochs': 10,\n",
        "    'device': 'cpu'\n",
        "}\n"
      ]
    },
    {
      "cell_type": "code",
      "execution_count": 10,
      "metadata": {
        "colab": {
          "background_save": true
        },
        "id": "3dZXK1iXE8J1"
      },
      "outputs": [],
      "source": [
        "train_dataset = SpeechDataset(\n",
        "    data_path = x_train,\n",
        "    target = y_train,\n",
        "    is_test = False\n",
        ")\n",
        "valid_dataset = SpeechDataset(\n",
        "    data_path = x_test,\n",
        "    target = y_test,\n",
        "    is_test = False\n",
        ")\n",
        "train_loader = DataLoader(\n",
        "    train_dataset,\n",
        "    batch_size = config['batch_size'],\n",
        "    shuffle = True,\n",
        "    num_workers = config['num_workers'],\n",
        "    drop_last = True\n",
        ")\n",
        "valid_loader = DataLoader(\n",
        "    valid_dataset,\n",
        "    batch_size = config['batch_size'],\n",
        "    shuffle = False,\n",
        "    num_workers = config['num_workers'],\n",
        "    drop_last = False\n",
        ")"
      ]
    },
    {
      "cell_type": "code",
      "execution_count": 12,
      "metadata": {
        "colab": {
          "background_save": true
        },
        "id": "55aaGOC4K8Pd"
      },
      "outputs": [],
      "source": [
        "model = torchvision.models.resnet18(num_classes=35)\n",
        "#model = torchvision.models.mobilenet_v3_small(num_classes=35)\n",
        "#model.features[0][0] = nn.Conv2d(1, 16, kernel_size=(3, 3), stride=(2, 2), padding=(1, 1), bias=False)\n",
        "model.to(config['device'])\n",
        "\n",
        "# 获取优化方法\n",
        "optimizer = torch.optim.Adam(params=model.parameters(), lr=1e-4, betas=(0.9,0.99), eps=1e-6, weight_decay=5e-4)\n",
        "#optimizer = torch.optim.SGD(model.parameters(), lr=1e-2, momentum=0.9, weight_decay=1e-2)\n",
        "# 获取学习率衰减函数\n",
        "scheduler = torch.optim.lr_scheduler.StepLR(optimizer, step_size=20, gamma=0.1)\n",
        "#scheduler = torch.optim.lr_scheduler.MultiStepLR(optimizer, milestones=[1, 2, 3, 4], gamma=0.3)\n",
        "# 获取损失函数\n",
        "loss = torch.nn.CrossEntropyLoss()\n",
        "device = 'cpu'"
      ]
    },
    {
      "cell_type": "code",
      "execution_count": 21,
      "metadata": {},
      "outputs": [],
      "source": [
        "def train(dataloader, model, loss_fn, optimizer):\n",
        "    size = len(dataloader.dataset)\n",
        "    model.train()\n",
        "    for batch, (X, y) in enumerate(dataloader):\n",
        "        X, y = X.to(device), y.to(device)\n",
        "\n",
        "        # Compute prediction error\n",
        "        pred = model(X)\n",
        "        loss = loss_fn(pred, y)\n",
        "\n",
        "        # Backpropagation\n",
        "        optimizer.zero_grad()\n",
        "        loss.backward()\n",
        "        optimizer.step()\n",
        "\n",
        "        if batch % 100 == 0:\n",
        "            loss, current = loss.item(), batch * len(X)\n",
        "            print(f\"loss: {loss:>7f}  [{current:>5d}/{size:>5d}]\")\n"
      ]
    },
    {
      "cell_type": "code",
      "execution_count": 18,
      "metadata": {},
      "outputs": [],
      "source": [
        "def validation(dataloader, model, loss_fn):\n",
        "    size = len(dataloader.dataset)\n",
        "    num_batches = len(dataloader)\n",
        "    model.eval()\n",
        "    test_loss, correct = 0, 0\n",
        "    with torch.no_grad():\n",
        "        for X, y in dataloader:\n",
        "            X, y = X.to(device), y.to(device)\n",
        "            pred = model(X)\n",
        "            test_loss += loss_fn(pred, y).item()\n",
        "            correct += (pred.argmax(1) == y).type(torch.float).sum().item()\n",
        "            \n",
        "    test_loss /= num_batches\n",
        "    correct /= size\n",
        "    print(f\"Val Error: \\n Accuracy: {(100 * correct):>0.1f}%, Avg loss: {test_loss:>8f} \\n\")\n",
        "    "
      ]
    },
    {
      "cell_type": "code",
      "execution_count": 22,
      "metadata": {},
      "outputs": [
        {
          "name": "stderr",
          "output_type": "stream",
          "text": [
            "  0%|          | 0/30 [00:00<?, ?it/s]"
          ]
        },
        {
          "name": "stdout",
          "output_type": "stream",
          "text": [
            "Epoch 1\n",
            "-------------------------------\n",
            "loss: 2.481280  [    0/59264]\n",
            "loss: 1.703591  [ 6400/59264]\n",
            "loss: 1.234425  [12800/59264]\n",
            "loss: 1.049305  [19200/59264]\n",
            "loss: 0.965315  [25600/59264]\n",
            "loss: 0.907588  [32000/59264]\n",
            "loss: 0.742032  [38400/59264]\n",
            "loss: 0.751323  [44800/59264]\n",
            "loss: 0.496773  [51200/59264]\n",
            "loss: 0.571004  [57600/59264]\n"
          ]
        },
        {
          "name": "stderr",
          "output_type": "stream",
          "text": [
            "  3%|▎         | 1/30 [07:39<3:42:02, 459.38s/it]"
          ]
        },
        {
          "name": "stdout",
          "output_type": "stream",
          "text": [
            "Val Error: \n",
            " Accuracy: 81.0%, Avg loss: 0.625335 \n",
            "\n",
            "Epoch 2\n",
            "-------------------------------\n",
            "loss: 0.727611  [    0/59264]\n",
            "loss: 0.672994  [ 6400/59264]\n",
            "loss: 0.525397  [12800/59264]\n",
            "loss: 0.631269  [19200/59264]\n",
            "loss: 0.359109  [25600/59264]\n",
            "loss: 0.356472  [32000/59264]\n",
            "loss: 0.567875  [38400/59264]\n",
            "loss: 0.430809  [44800/59264]\n",
            "loss: 0.392609  [51200/59264]\n",
            "loss: 0.377854  [57600/59264]\n"
          ]
        },
        {
          "name": "stderr",
          "output_type": "stream",
          "text": [
            "  7%|▋         | 2/30 [15:16<3:33:46, 458.10s/it]"
          ]
        },
        {
          "name": "stdout",
          "output_type": "stream",
          "text": [
            "Val Error: \n",
            " Accuracy: 85.6%, Avg loss: 0.478784 \n",
            "\n",
            "Epoch 3\n",
            "-------------------------------\n",
            "loss: 0.341169  [    0/59264]\n",
            "loss: 0.272391  [ 6400/59264]\n",
            "loss: 0.261559  [12800/59264]\n",
            "loss: 0.180442  [19200/59264]\n",
            "loss: 0.353578  [25600/59264]\n",
            "loss: 0.425014  [32000/59264]\n",
            "loss: 0.374524  [38400/59264]\n",
            "loss: 0.432237  [44800/59264]\n",
            "loss: 0.385376  [51200/59264]\n",
            "loss: 0.262756  [57600/59264]\n"
          ]
        },
        {
          "name": "stderr",
          "output_type": "stream",
          "text": [
            " 10%|█         | 3/30 [22:52<3:25:39, 457.02s/it]"
          ]
        },
        {
          "name": "stdout",
          "output_type": "stream",
          "text": [
            "Val Error: \n",
            " Accuracy: 87.7%, Avg loss: 0.405206 \n",
            "\n",
            "Epoch 4\n",
            "-------------------------------\n",
            "loss: 0.287221  [    0/59264]\n",
            "loss: 0.456866  [ 6400/59264]\n",
            "loss: 0.189802  [12800/59264]\n",
            "loss: 0.225572  [19200/59264]\n",
            "loss: 0.281038  [25600/59264]\n",
            "loss: 0.258909  [32000/59264]\n",
            "loss: 0.137221  [38400/59264]\n",
            "loss: 0.172309  [44800/59264]\n",
            "loss: 0.278949  [51200/59264]\n",
            "loss: 0.293372  [57600/59264]\n"
          ]
        },
        {
          "name": "stderr",
          "output_type": "stream",
          "text": [
            " 13%|█▎        | 4/30 [30:26<3:17:30, 455.80s/it]"
          ]
        },
        {
          "name": "stdout",
          "output_type": "stream",
          "text": [
            "Val Error: \n",
            " Accuracy: 88.0%, Avg loss: 0.398976 \n",
            "\n",
            "Epoch 5\n",
            "-------------------------------\n",
            "loss: 0.297384  [    0/59264]\n",
            "loss: 0.171815  [ 6400/59264]\n",
            "loss: 0.169197  [12800/59264]\n",
            "loss: 0.178189  [19200/59264]\n",
            "loss: 0.228392  [25600/59264]\n",
            "loss: 0.162928  [32000/59264]\n",
            "loss: 0.296638  [38400/59264]\n",
            "loss: 0.238760  [44800/59264]\n",
            "loss: 0.218751  [51200/59264]\n",
            "loss: 0.346815  [57600/59264]\n"
          ]
        },
        {
          "name": "stderr",
          "output_type": "stream",
          "text": [
            " 17%|█▋        | 5/30 [38:42<3:15:55, 470.22s/it]"
          ]
        },
        {
          "name": "stdout",
          "output_type": "stream",
          "text": [
            "Val Error: \n",
            " Accuracy: 88.5%, Avg loss: 0.391536 \n",
            "\n",
            "Epoch 6\n",
            "-------------------------------\n",
            "loss: 0.162231  [    0/59264]\n",
            "loss: 0.167179  [ 6400/59264]\n",
            "loss: 0.163926  [12800/59264]\n",
            "loss: 0.108232  [19200/59264]\n",
            "loss: 0.168646  [25600/59264]\n",
            "loss: 0.028973  [32000/59264]\n",
            "loss: 0.131156  [38400/59264]\n",
            "loss: 0.185285  [44800/59264]\n",
            "loss: 0.078865  [51200/59264]\n",
            "loss: 0.149404  [57600/59264]\n"
          ]
        },
        {
          "name": "stderr",
          "output_type": "stream",
          "text": [
            " 20%|██        | 6/30 [46:23<3:06:54, 467.29s/it]"
          ]
        },
        {
          "name": "stdout",
          "output_type": "stream",
          "text": [
            "Val Error: \n",
            " Accuracy: 89.0%, Avg loss: 0.381273 \n",
            "\n",
            "Epoch 7\n",
            "-------------------------------\n",
            "loss: 0.094476  [    0/59264]\n",
            "loss: 0.050540  [ 6400/59264]\n",
            "loss: 0.227236  [12800/59264]\n",
            "loss: 0.168350  [19200/59264]\n",
            "loss: 0.153283  [25600/59264]\n",
            "loss: 0.183500  [32000/59264]\n",
            "loss: 0.221535  [38400/59264]\n",
            "loss: 0.169383  [44800/59264]\n",
            "loss: 0.108187  [51200/59264]\n",
            "loss: 0.141752  [57600/59264]\n"
          ]
        },
        {
          "name": "stderr",
          "output_type": "stream",
          "text": [
            " 23%|██▎       | 7/30 [54:00<2:57:51, 464.00s/it]"
          ]
        },
        {
          "name": "stdout",
          "output_type": "stream",
          "text": [
            "Val Error: \n",
            " Accuracy: 89.8%, Avg loss: 0.360992 \n",
            "\n",
            "Epoch 8\n",
            "-------------------------------\n",
            "loss: 0.182353  [    0/59264]\n",
            "loss: 0.079080  [ 6400/59264]\n",
            "loss: 0.106048  [12800/59264]\n",
            "loss: 0.225905  [19200/59264]\n",
            "loss: 0.152329  [25600/59264]\n",
            "loss: 0.221972  [32000/59264]\n",
            "loss: 0.078138  [38400/59264]\n",
            "loss: 0.166395  [44800/59264]\n",
            "loss: 0.123466  [51200/59264]\n",
            "loss: 0.164292  [57600/59264]\n"
          ]
        },
        {
          "name": "stderr",
          "output_type": "stream",
          "text": [
            " 27%|██▋       | 8/30 [1:01:37<2:49:13, 461.51s/it]"
          ]
        },
        {
          "name": "stdout",
          "output_type": "stream",
          "text": [
            "Val Error: \n",
            " Accuracy: 89.6%, Avg loss: 0.367865 \n",
            "\n",
            "Epoch 9\n",
            "-------------------------------\n",
            "loss: 0.092914  [    0/59264]\n",
            "loss: 0.126417  [ 6400/59264]\n",
            "loss: 0.204462  [12800/59264]\n",
            "loss: 0.048378  [19200/59264]\n",
            "loss: 0.242186  [25600/59264]\n",
            "loss: 0.240746  [32000/59264]\n",
            "loss: 0.095853  [38400/59264]\n",
            "loss: 0.134812  [44800/59264]\n",
            "loss: 0.122115  [51200/59264]\n",
            "loss: 0.032261  [57600/59264]\n"
          ]
        },
        {
          "name": "stderr",
          "output_type": "stream",
          "text": [
            " 30%|███       | 9/30 [1:09:13<2:40:58, 459.94s/it]"
          ]
        },
        {
          "name": "stdout",
          "output_type": "stream",
          "text": [
            "Val Error: \n",
            " Accuracy: 90.0%, Avg loss: 0.360124 \n",
            "\n",
            "Epoch 10\n",
            "-------------------------------\n",
            "loss: 0.204911  [    0/59264]\n",
            "loss: 0.043918  [ 6400/59264]\n",
            "loss: 0.176894  [12800/59264]\n",
            "loss: 0.153172  [19200/59264]\n",
            "loss: 0.090665  [25600/59264]\n",
            "loss: 0.029441  [32000/59264]\n",
            "loss: 0.013002  [38400/59264]\n",
            "loss: 0.137095  [44800/59264]\n",
            "loss: 0.088534  [51200/59264]\n",
            "loss: 0.144370  [57600/59264]\n"
          ]
        },
        {
          "name": "stderr",
          "output_type": "stream",
          "text": [
            " 33%|███▎      | 10/30 [1:16:49<2:32:57, 458.86s/it]"
          ]
        },
        {
          "name": "stdout",
          "output_type": "stream",
          "text": [
            "Val Error: \n",
            " Accuracy: 90.1%, Avg loss: 0.355942 \n",
            "\n",
            "Epoch 11\n",
            "-------------------------------\n",
            "loss: 0.046307  [    0/59264]\n",
            "loss: 0.065432  [ 6400/59264]\n",
            "loss: 0.062928  [12800/59264]\n",
            "loss: 0.046242  [19200/59264]\n",
            "loss: 0.125323  [25600/59264]\n",
            "loss: 0.157498  [32000/59264]\n",
            "loss: 0.221623  [38400/59264]\n",
            "loss: 0.076559  [44800/59264]\n",
            "loss: 0.062225  [51200/59264]\n",
            "loss: 0.086346  [57600/59264]\n"
          ]
        },
        {
          "name": "stderr",
          "output_type": "stream",
          "text": [
            " 37%|███▋      | 11/30 [1:24:26<2:25:03, 458.09s/it]"
          ]
        },
        {
          "name": "stdout",
          "output_type": "stream",
          "text": [
            "Val Error: \n",
            " Accuracy: 89.3%, Avg loss: 0.391933 \n",
            "\n",
            "Epoch 12\n",
            "-------------------------------\n",
            "loss: 0.179102  [    0/59264]\n",
            "loss: 0.230071  [ 6400/59264]\n",
            "loss: 0.052478  [12800/59264]\n",
            "loss: 0.022511  [19200/59264]\n",
            "loss: 0.130658  [25600/59264]\n",
            "loss: 0.133813  [32000/59264]\n",
            "loss: 0.068243  [38400/59264]\n",
            "loss: 0.141631  [44800/59264]\n",
            "loss: 0.105669  [51200/59264]\n",
            "loss: 0.158861  [57600/59264]\n"
          ]
        },
        {
          "name": "stderr",
          "output_type": "stream",
          "text": [
            " 40%|████      | 12/30 [1:32:02<2:17:14, 457.50s/it]"
          ]
        },
        {
          "name": "stdout",
          "output_type": "stream",
          "text": [
            "Val Error: \n",
            " Accuracy: 90.5%, Avg loss: 0.349351 \n",
            "\n",
            "Epoch 13\n",
            "-------------------------------\n",
            "loss: 0.097403  [    0/59264]\n",
            "loss: 0.038319  [ 6400/59264]\n",
            "loss: 0.074442  [12800/59264]\n",
            "loss: 0.148877  [19200/59264]\n",
            "loss: 0.163629  [25600/59264]\n",
            "loss: 0.157423  [32000/59264]\n",
            "loss: 0.016992  [38400/59264]\n",
            "loss: 0.248562  [44800/59264]\n",
            "loss: 0.049423  [51200/59264]\n",
            "loss: 0.076536  [57600/59264]\n"
          ]
        },
        {
          "name": "stderr",
          "output_type": "stream",
          "text": [
            " 43%|████▎     | 13/30 [1:39:39<2:09:34, 457.30s/it]"
          ]
        },
        {
          "name": "stdout",
          "output_type": "stream",
          "text": [
            "Val Error: \n",
            " Accuracy: 89.6%, Avg loss: 0.383860 \n",
            "\n",
            "Epoch 14\n",
            "-------------------------------\n",
            "loss: 0.067690  [    0/59264]\n",
            "loss: 0.035314  [ 6400/59264]\n",
            "loss: 0.045585  [12800/59264]\n",
            "loss: 0.090224  [19200/59264]\n",
            "loss: 0.064982  [25600/59264]\n",
            "loss: 0.027026  [32000/59264]\n",
            "loss: 0.032408  [38400/59264]\n",
            "loss: 0.069573  [44800/59264]\n",
            "loss: 0.040553  [51200/59264]\n",
            "loss: 0.131552  [57600/59264]\n"
          ]
        },
        {
          "name": "stderr",
          "output_type": "stream",
          "text": [
            " 47%|████▋     | 14/30 [1:47:15<2:01:50, 456.91s/it]"
          ]
        },
        {
          "name": "stdout",
          "output_type": "stream",
          "text": [
            "Val Error: \n",
            " Accuracy: 90.4%, Avg loss: 0.359323 \n",
            "\n",
            "Epoch 15\n",
            "-------------------------------\n",
            "loss: 0.018678  [    0/59264]\n",
            "loss: 0.099424  [ 6400/59264]\n",
            "loss: 0.028182  [12800/59264]\n",
            "loss: 0.058189  [19200/59264]\n",
            "loss: 0.078993  [25600/59264]\n",
            "loss: 0.074377  [32000/59264]\n",
            "loss: 0.012255  [38400/59264]\n",
            "loss: 0.046494  [44800/59264]\n",
            "loss: 0.101967  [51200/59264]\n",
            "loss: 0.014202  [57600/59264]\n"
          ]
        },
        {
          "name": "stderr",
          "output_type": "stream",
          "text": [
            " 50%|█████     | 15/30 [1:54:50<1:54:07, 456.48s/it]"
          ]
        },
        {
          "name": "stdout",
          "output_type": "stream",
          "text": [
            "Val Error: \n",
            " Accuracy: 90.1%, Avg loss: 0.366688 \n",
            "\n",
            "Epoch 16\n",
            "-------------------------------\n",
            "loss: 0.065124  [    0/59264]\n",
            "loss: 0.197607  [ 6400/59264]\n",
            "loss: 0.048792  [12800/59264]\n",
            "loss: 0.018334  [19200/59264]\n",
            "loss: 0.024021  [25600/59264]\n",
            "loss: 0.161030  [32000/59264]\n",
            "loss: 0.135320  [38400/59264]\n",
            "loss: 0.093639  [44800/59264]\n",
            "loss: 0.062098  [51200/59264]\n",
            "loss: 0.030565  [57600/59264]\n"
          ]
        },
        {
          "name": "stderr",
          "output_type": "stream",
          "text": [
            " 53%|█████▎    | 16/30 [2:02:26<1:46:27, 456.26s/it]"
          ]
        },
        {
          "name": "stdout",
          "output_type": "stream",
          "text": [
            "Val Error: \n",
            " Accuracy: 91.3%, Avg loss: 0.335023 \n",
            "\n",
            "Epoch 17\n",
            "-------------------------------\n",
            "loss: 0.051810  [    0/59264]\n",
            "loss: 0.023190  [ 6400/59264]\n",
            "loss: 0.024438  [12800/59264]\n",
            "loss: 0.124784  [19200/59264]\n",
            "loss: 0.035647  [25600/59264]\n",
            "loss: 0.036831  [32000/59264]\n",
            "loss: 0.026537  [38400/59264]\n",
            "loss: 0.080696  [44800/59264]\n",
            "loss: 0.124071  [51200/59264]\n",
            "loss: 0.126743  [57600/59264]\n"
          ]
        },
        {
          "name": "stderr",
          "output_type": "stream",
          "text": [
            " 57%|█████▋    | 17/30 [2:10:02<1:38:48, 456.05s/it]"
          ]
        },
        {
          "name": "stdout",
          "output_type": "stream",
          "text": [
            "Val Error: \n",
            " Accuracy: 90.2%, Avg loss: 0.380136 \n",
            "\n",
            "Epoch 18\n",
            "-------------------------------\n",
            "loss: 0.206036  [    0/59264]\n",
            "loss: 0.108448  [ 6400/59264]\n",
            "loss: 0.074660  [12800/59264]\n",
            "loss: 0.154914  [19200/59264]\n",
            "loss: 0.142447  [25600/59264]\n",
            "loss: 0.048690  [32000/59264]\n",
            "loss: 0.109977  [38400/59264]\n",
            "loss: 0.024796  [44800/59264]\n",
            "loss: 0.044026  [51200/59264]\n",
            "loss: 0.048411  [57600/59264]\n"
          ]
        },
        {
          "name": "stderr",
          "output_type": "stream",
          "text": [
            " 60%|██████    | 18/30 [2:17:38<1:31:15, 456.27s/it]"
          ]
        },
        {
          "name": "stdout",
          "output_type": "stream",
          "text": [
            "Val Error: \n",
            " Accuracy: 90.6%, Avg loss: 0.368159 \n",
            "\n",
            "Epoch 19\n",
            "-------------------------------\n",
            "loss: 0.019072  [    0/59264]\n",
            "loss: 0.158551  [ 6400/59264]\n",
            "loss: 0.027287  [12800/59264]\n",
            "loss: 0.085952  [19200/59264]\n",
            "loss: 0.088495  [25600/59264]\n",
            "loss: 0.060069  [32000/59264]\n",
            "loss: 0.018539  [38400/59264]\n",
            "loss: 0.099724  [44800/59264]\n",
            "loss: 0.016585  [51200/59264]\n",
            "loss: 0.034788  [57600/59264]\n"
          ]
        },
        {
          "name": "stderr",
          "output_type": "stream",
          "text": [
            " 63%|██████▎   | 19/30 [2:25:16<1:23:42, 456.64s/it]"
          ]
        },
        {
          "name": "stdout",
          "output_type": "stream",
          "text": [
            "Val Error: \n",
            " Accuracy: 90.5%, Avg loss: 0.354998 \n",
            "\n",
            "Epoch 20\n",
            "-------------------------------\n",
            "loss: 0.129995  [    0/59264]\n",
            "loss: 0.034785  [ 6400/59264]\n",
            "loss: 0.066376  [12800/59264]\n",
            "loss: 0.042215  [19200/59264]\n",
            "loss: 0.078081  [25600/59264]\n",
            "loss: 0.045370  [32000/59264]\n",
            "loss: 0.196507  [38400/59264]\n",
            "loss: 0.012283  [44800/59264]\n",
            "loss: 0.137484  [51200/59264]\n",
            "loss: 0.092905  [57600/59264]\n"
          ]
        },
        {
          "name": "stderr",
          "output_type": "stream",
          "text": [
            " 67%|██████▋   | 20/30 [2:32:51<1:16:02, 456.26s/it]"
          ]
        },
        {
          "name": "stdout",
          "output_type": "stream",
          "text": [
            "Val Error: \n",
            " Accuracy: 90.3%, Avg loss: 0.368510 \n",
            "\n",
            "Epoch 21\n",
            "-------------------------------\n",
            "loss: 0.039604  [    0/59264]\n",
            "loss: 0.041188  [ 6400/59264]\n",
            "loss: 0.054463  [12800/59264]\n",
            "loss: 0.138704  [19200/59264]\n",
            "loss: 0.009970  [25600/59264]\n",
            "loss: 0.022348  [32000/59264]\n",
            "loss: 0.068610  [38400/59264]\n",
            "loss: 0.111193  [44800/59264]\n",
            "loss: 0.045509  [51200/59264]\n",
            "loss: 0.110812  [57600/59264]\n"
          ]
        },
        {
          "name": "stderr",
          "output_type": "stream",
          "text": [
            " 70%|███████   | 21/30 [2:40:25<1:08:20, 455.56s/it]"
          ]
        },
        {
          "name": "stdout",
          "output_type": "stream",
          "text": [
            "Val Error: \n",
            " Accuracy: 90.6%, Avg loss: 0.359956 \n",
            "\n",
            "Epoch 22\n",
            "-------------------------------\n",
            "loss: 0.152253  [    0/59264]\n",
            "loss: 0.042979  [ 6400/59264]\n",
            "loss: 0.025487  [12800/59264]\n",
            "loss: 0.046286  [19200/59264]\n",
            "loss: 0.021817  [25600/59264]\n",
            "loss: 0.081538  [32000/59264]\n",
            "loss: 0.049092  [38400/59264]\n",
            "loss: 0.025666  [44800/59264]\n",
            "loss: 0.071321  [51200/59264]\n",
            "loss: 0.044811  [57600/59264]\n"
          ]
        },
        {
          "name": "stderr",
          "output_type": "stream",
          "text": [
            " 73%|███████▎  | 22/30 [2:47:58<1:00:38, 454.85s/it]"
          ]
        },
        {
          "name": "stdout",
          "output_type": "stream",
          "text": [
            "Val Error: \n",
            " Accuracy: 90.7%, Avg loss: 0.365083 \n",
            "\n",
            "Epoch 23\n",
            "-------------------------------\n",
            "loss: 0.015372  [    0/59264]\n",
            "loss: 0.017734  [ 6400/59264]\n",
            "loss: 0.062024  [12800/59264]\n",
            "loss: 0.016421  [19200/59264]\n",
            "loss: 0.148045  [25600/59264]\n",
            "loss: 0.136597  [32000/59264]\n",
            "loss: 0.092718  [38400/59264]\n",
            "loss: 0.067598  [44800/59264]\n",
            "loss: 0.044527  [51200/59264]\n",
            "loss: 0.049367  [57600/59264]\n"
          ]
        },
        {
          "name": "stderr",
          "output_type": "stream",
          "text": [
            " 77%|███████▋  | 23/30 [2:55:33<53:02, 454.64s/it]  "
          ]
        },
        {
          "name": "stdout",
          "output_type": "stream",
          "text": [
            "Val Error: \n",
            " Accuracy: 90.7%, Avg loss: 0.357472 \n",
            "\n",
            "Epoch 24\n",
            "-------------------------------\n",
            "loss: 0.028847  [    0/59264]\n",
            "loss: 0.095372  [ 6400/59264]\n",
            "loss: 0.020485  [12800/59264]\n",
            "loss: 0.005762  [19200/59264]\n",
            "loss: 0.035319  [25600/59264]\n",
            "loss: 0.144566  [32000/59264]\n",
            "loss: 0.004689  [38400/59264]\n",
            "loss: 0.082771  [44800/59264]\n",
            "loss: 0.100948  [51200/59264]\n",
            "loss: 0.006666  [57600/59264]\n"
          ]
        },
        {
          "name": "stderr",
          "output_type": "stream",
          "text": [
            " 80%|████████  | 24/30 [3:03:08<45:29, 454.98s/it]"
          ]
        },
        {
          "name": "stdout",
          "output_type": "stream",
          "text": [
            "Val Error: \n",
            " Accuracy: 90.5%, Avg loss: 0.375626 \n",
            "\n",
            "Epoch 25\n",
            "-------------------------------\n",
            "loss: 0.022804  [    0/59264]\n",
            "loss: 0.008842  [ 6400/59264]\n",
            "loss: 0.057302  [12800/59264]\n",
            "loss: 0.067881  [19200/59264]\n",
            "loss: 0.073436  [25600/59264]\n",
            "loss: 0.258781  [32000/59264]\n",
            "loss: 0.151298  [38400/59264]\n",
            "loss: 0.022033  [44800/59264]\n",
            "loss: 0.008191  [51200/59264]\n",
            "loss: 0.066541  [57600/59264]\n"
          ]
        },
        {
          "name": "stderr",
          "output_type": "stream",
          "text": [
            " 83%|████████▎ | 25/30 [3:10:44<37:56, 455.27s/it]"
          ]
        },
        {
          "name": "stdout",
          "output_type": "stream",
          "text": [
            "Val Error: \n",
            " Accuracy: 91.1%, Avg loss: 0.351441 \n",
            "\n",
            "Epoch 26\n",
            "-------------------------------\n",
            "loss: 0.093213  [    0/59264]\n",
            "loss: 0.030957  [ 6400/59264]\n",
            "loss: 0.048241  [12800/59264]\n",
            "loss: 0.010443  [19200/59264]\n",
            "loss: 0.042558  [25600/59264]\n",
            "loss: 0.150710  [32000/59264]\n",
            "loss: 0.057052  [38400/59264]\n",
            "loss: 0.138341  [44800/59264]\n",
            "loss: 0.029883  [51200/59264]\n",
            "loss: 0.146252  [57600/59264]\n"
          ]
        },
        {
          "name": "stderr",
          "output_type": "stream",
          "text": [
            " 87%|████████▋ | 26/30 [3:18:20<30:22, 455.56s/it]"
          ]
        },
        {
          "name": "stdout",
          "output_type": "stream",
          "text": [
            "Val Error: \n",
            " Accuracy: 91.1%, Avg loss: 0.349251 \n",
            "\n",
            "Epoch 27\n",
            "-------------------------------\n",
            "loss: 0.057592  [    0/59264]\n",
            "loss: 0.035693  [ 6400/59264]\n",
            "loss: 0.008665  [12800/59264]\n",
            "loss: 0.109614  [19200/59264]\n",
            "loss: 0.028424  [25600/59264]\n",
            "loss: 0.016911  [32000/59264]\n",
            "loss: 0.027305  [38400/59264]\n",
            "loss: 0.063807  [44800/59264]\n",
            "loss: 0.136076  [51200/59264]\n",
            "loss: 0.057775  [57600/59264]\n"
          ]
        },
        {
          "name": "stderr",
          "output_type": "stream",
          "text": [
            " 90%|█████████ | 27/30 [3:25:56<22:46, 455.56s/it]"
          ]
        },
        {
          "name": "stdout",
          "output_type": "stream",
          "text": [
            "Val Error: \n",
            " Accuracy: 91.2%, Avg loss: 0.349135 \n",
            "\n",
            "Epoch 28\n",
            "-------------------------------\n",
            "loss: 0.006554  [    0/59264]\n",
            "loss: 0.021598  [ 6400/59264]\n",
            "loss: 0.095106  [12800/59264]\n",
            "loss: 0.022719  [19200/59264]\n",
            "loss: 0.024740  [25600/59264]\n",
            "loss: 0.064131  [32000/59264]\n",
            "loss: 0.058004  [38400/59264]\n",
            "loss: 0.082712  [44800/59264]\n",
            "loss: 0.123295  [51200/59264]\n",
            "loss: 0.105499  [57600/59264]\n"
          ]
        },
        {
          "name": "stderr",
          "output_type": "stream",
          "text": [
            " 93%|█████████▎| 28/30 [3:33:33<15:11, 455.84s/it]"
          ]
        },
        {
          "name": "stdout",
          "output_type": "stream",
          "text": [
            "Val Error: \n",
            " Accuracy: 91.3%, Avg loss: 0.347277 \n",
            "\n",
            "Epoch 29\n",
            "-------------------------------\n",
            "loss: 0.009500  [    0/59264]\n",
            "loss: 0.008876  [ 6400/59264]\n",
            "loss: 0.051380  [12800/59264]\n",
            "loss: 0.037584  [19200/59264]\n",
            "loss: 0.111212  [25600/59264]\n",
            "loss: 0.023766  [32000/59264]\n",
            "loss: 0.122791  [38400/59264]\n",
            "loss: 0.078754  [44800/59264]\n",
            "loss: 0.062445  [51200/59264]\n",
            "loss: 0.069912  [57600/59264]\n"
          ]
        },
        {
          "name": "stderr",
          "output_type": "stream",
          "text": [
            " 97%|█████████▋| 29/30 [3:41:08<07:35, 455.75s/it]"
          ]
        },
        {
          "name": "stdout",
          "output_type": "stream",
          "text": [
            "Val Error: \n",
            " Accuracy: 90.5%, Avg loss: 0.377131 \n",
            "\n",
            "Epoch 30\n",
            "-------------------------------\n",
            "loss: 0.012395  [    0/59264]\n",
            "loss: 0.016510  [ 6400/59264]\n",
            "loss: 0.022604  [12800/59264]\n",
            "loss: 0.115674  [19200/59264]\n",
            "loss: 0.018079  [25600/59264]\n",
            "loss: 0.086660  [32000/59264]\n",
            "loss: 0.064706  [38400/59264]\n",
            "loss: 0.036662  [44800/59264]\n",
            "loss: 0.031165  [51200/59264]\n",
            "loss: 0.022986  [57600/59264]\n"
          ]
        },
        {
          "name": "stderr",
          "output_type": "stream",
          "text": [
            "100%|██████████| 30/30 [3:48:43<00:00, 457.45s/it]"
          ]
        },
        {
          "name": "stdout",
          "output_type": "stream",
          "text": [
            "Val Error: \n",
            " Accuracy: 91.2%, Avg loss: 0.356323 \n",
            "\n",
            "Done!\n"
          ]
        },
        {
          "name": "stderr",
          "output_type": "stream",
          "text": [
            "\n"
          ]
        }
      ],
      "source": [
        "epochs = 30\n",
        "for t in tqdm(range(epochs)):\n",
        "    print(f\"Epoch {t + 1}\\n-------------------------------\")\n",
        "    train(train_loader, model, loss, optimizer)\n",
        "    validation(valid_loader, model, loss)\n",
        "\n",
        "print(\"Done!\")\n"
      ]
    },
    {
      "cell_type": "code",
      "execution_count": 23,
      "metadata": {
        "colab": {
          "background_save": true
        },
        "id": "ue1fO2jz1Zfp"
      },
      "outputs": [
        {
          "data": {
            "text/plain": [
              "['audio_files/6f757c30-32f8-4857-a4e6-53a8b154b838.wav',\n",
              " 'audio_files/36c4e1b3-9427-4905-8653-1e43bbddd938.wav',\n",
              " 'audio_files/59599150-4db7-494b-8b8a-d35eee129b70.wav',\n",
              " 'audio_files/a71314a4-afcf-465e-9f17-0d5768b69dce.wav',\n",
              " 'audio_files/cc61243b-a830-4af7-94f2-962787e5268f.wav',\n",
              " 'audio_files/0cc0aaa2-8a2e-4fff-9f2a-48c3b8736d48.wav',\n",
              " 'audio_files/fce534da-f644-435c-855a-77512872dcd1.wav',\n",
              " 'audio_files/0c8d2f3e-8538-4118-a096-7ddcdeddc331.wav',\n",
              " 'audio_files/b0049719-427a-409d-848a-8c10b88a9799.wav',\n",
              " 'audio_files/cb6be4cc-f462-44bd-ac99-784a9ae4c811.wav']"
            ]
          },
          "execution_count": 23,
          "metadata": {},
          "output_type": "execute_result"
        }
      ],
      "source": [
        "submission = pd.read_csv(\"sample_submission.csv\")\n",
        "test_filename = list(submission.loc[:,\"file_name\"])\n",
        "test_dir = []\n",
        "for item in test_filename:\n",
        "  ans = audio_dir + item\n",
        "  test_dir.append(ans)\n",
        "\n",
        "test_dir[0:10]"
      ]
    },
    {
      "cell_type": "code",
      "execution_count": 27,
      "metadata": {},
      "outputs": [
        {
          "name": "stderr",
          "output_type": "stream",
          "text": [
            "  0%|          | 0/31749 [00:00<?, ?it/s]/var/folders/j8/287qv_h962sgjzzwzh6whkpm0000gn/T/ipykernel_13937/2614235750.py:70: UserWarning: Implicit dimension choice for softmax has been deprecated. Change the call to include dim=X as an argument.\n",
            "  ans = torch.nn.functional.softmax(output)\n",
            "100%|██████████| 31749/31749 [03:23<00:00, 156.32it/s]\n"
          ]
        },
        {
          "data": {
            "text/html": [
              "<div>\n",
              "<style scoped>\n",
              "    .dataframe tbody tr th:only-of-type {\n",
              "        vertical-align: middle;\n",
              "    }\n",
              "\n",
              "    .dataframe tbody tr th {\n",
              "        vertical-align: top;\n",
              "    }\n",
              "\n",
              "    .dataframe thead th {\n",
              "        text-align: right;\n",
              "    }\n",
              "</style>\n",
              "<table border=\"1\" class=\"dataframe\">\n",
              "  <thead>\n",
              "    <tr style=\"text-align: right;\">\n",
              "      <th></th>\n",
              "      <th>file_name</th>\n",
              "      <th>target</th>\n",
              "    </tr>\n",
              "  </thead>\n",
              "  <tbody>\n",
              "    <tr>\n",
              "      <th>0</th>\n",
              "      <td>6f757c30-32f8-4857-a4e6-53a8b154b838.wav</td>\n",
              "      <td>follow</td>\n",
              "    </tr>\n",
              "    <tr>\n",
              "      <th>1</th>\n",
              "      <td>36c4e1b3-9427-4905-8653-1e43bbddd938.wav</td>\n",
              "      <td>four</td>\n",
              "    </tr>\n",
              "    <tr>\n",
              "      <th>2</th>\n",
              "      <td>59599150-4db7-494b-8b8a-d35eee129b70.wav</td>\n",
              "      <td>bird</td>\n",
              "    </tr>\n",
              "    <tr>\n",
              "      <th>3</th>\n",
              "      <td>a71314a4-afcf-465e-9f17-0d5768b69dce.wav</td>\n",
              "      <td>no</td>\n",
              "    </tr>\n",
              "    <tr>\n",
              "      <th>4</th>\n",
              "      <td>cc61243b-a830-4af7-94f2-962787e5268f.wav</td>\n",
              "      <td>left</td>\n",
              "    </tr>\n",
              "  </tbody>\n",
              "</table>\n",
              "</div>"
            ],
            "text/plain": [
              "                                  file_name  target\n",
              "0  6f757c30-32f8-4857-a4e6-53a8b154b838.wav  follow\n",
              "1  36c4e1b3-9427-4905-8653-1e43bbddd938.wav    four\n",
              "2  59599150-4db7-494b-8b8a-d35eee129b70.wav    bird\n",
              "3  a71314a4-afcf-465e-9f17-0d5768b69dce.wav      no\n",
              "4  cc61243b-a830-4af7-94f2-962787e5268f.wav    left"
            ]
          },
          "execution_count": 27,
          "metadata": {},
          "output_type": "execute_result"
        }
      ],
      "source": [
        "def pad_trunc(samples, sr):\n",
        "    num_rows, signal_len = samples.shape\n",
        "    max_len = sr // 1000 * 1000\n",
        "\n",
        "    if (signal_len > max_len):\n",
        "        # Truncate the signal to the given length\n",
        "        samples = samples[:, max_len]\n",
        "\n",
        "    elif (signal_len < max_len):\n",
        "        # Length of padding to add at the beginning and end of the signal\n",
        "        pad_begin_len = random.randint(0, max_len - signal_len)\n",
        "        pad_end_len = max_len - signal_len - pad_begin_len\n",
        "\n",
        "        # Pad with 0s\n",
        "        pad_begin = torch.zeros((1, pad_begin_len))\n",
        "        pad_end = torch.zeros((1, pad_end_len))\n",
        "\n",
        "        samples = torch.cat((pad_begin, samples, pad_end), 1)\n",
        "\n",
        "    return samples\n",
        "\n",
        "def rechannel(spect, sr, num_channel):\n",
        "        if (spect.shape[0] == num_channel):\n",
        "            # Nothing to do\n",
        "            return spect\n",
        "\n",
        "        if (num_channel == 1):\n",
        "            # Convert from stereo to mono by selecting only the first channel\n",
        "            spect = spect[:1, :]\n",
        "        else:\n",
        "            # Convert from mono to stereo by duplicating the first channel\n",
        "            spect = torch.cat([spect, spect, spect])\n",
        "\n",
        "        return spect\n",
        "\n",
        "def time_shift(samples, sr, shift_limit):\n",
        "        _, sig_len = samples.shape\n",
        "        shift_amt = int(random.random() * shift_limit * sig_len)\n",
        "        return samples.roll(shift_amt)\n",
        "\n",
        "def get_keys(d, value):\n",
        "    return [k for k,v in d.items() if v == value]\n",
        "\n",
        "result = []\n",
        "for fpath in tqdm(test_dir):   \n",
        "    samples, sr = torchaudio.load(fpath)\n",
        "    samples = pad_trunc(samples,16000)\n",
        "\n",
        "    spect = torchaudio.transforms.MelSpectrogram(\n",
        "        sample_rate = 16000,\n",
        "        n_fft=1024,\n",
        "        hop_length=None,\n",
        "        n_mels=64\n",
        "    )(samples)\n",
        "\n",
        "    spect = torchaudio.transforms.AmplitudeToDB(top_db=80)(spect)\n",
        "    spect = rechannel(spect,16000,3)\n",
        "    spect = spect[np.newaxis,:]\n",
        "\n",
        "    \n",
        "    output = model(spect)\n",
        "    ans = torch.nn.functional.softmax(output)\n",
        "    ans = ans.data.cpu().numpy()\n",
        "    lab = np.argsort(ans)[0][-1]\n",
        "    result.append(lab)\n",
        "    \n",
        "res1 = []\n",
        "for elem in result:\n",
        "    tg = get_keys(class_dic, elem)\n",
        "    res1.append(tg[0])    \n",
        "\n",
        "submission[\"target\"] = res1\n",
        "submission.to_csv(\"new_submission.csv\", index=None)\n",
        "submission.head()"
      ]
    }
  ],
  "metadata": {
    "colab": {
      "collapsed_sections": [],
      "name": "speech-hw.ipynb",
      "provenance": []
    },
    "kernelspec": {
      "display_name": "Python 3",
      "name": "python3"
    },
    "language_info": {
      "codemirror_mode": {
        "name": "ipython",
        "version": 3
      },
      "file_extension": ".py",
      "mimetype": "text/x-python",
      "name": "python",
      "nbconvert_exporter": "python",
      "pygments_lexer": "ipython3",
      "version": "3.9.4"
    }
  },
  "nbformat": 4,
  "nbformat_minor": 0
}
